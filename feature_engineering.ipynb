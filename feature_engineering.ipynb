{
  "nbformat": 4,
  "nbformat_minor": 0,
  "metadata": {
    "colab": {
      "provenance": [],
      "authorship_tag": "ABX9TyNvdz48FXsUO3xIQHYT+gR+",
      "include_colab_link": true
    },
    "kernelspec": {
      "name": "python3",
      "display_name": "Python 3"
    },
    "language_info": {
      "name": "python"
    }
  },
  "cells": [
    {
      "cell_type": "markdown",
      "metadata": {
        "id": "view-in-github",
        "colab_type": "text"
      },
      "source": [
        "<a href=\"https://colab.research.google.com/github/torrhen/data_science/blob/main/feature_engineering.ipynb\" target=\"_parent\"><img src=\"https://colab.research.google.com/assets/colab-badge.svg\" alt=\"Open In Colab\"/></a>"
      ]
    },
    {
      "cell_type": "code",
      "execution_count": 25,
      "metadata": {
        "id": "ZsfoHrW3jS48"
      },
      "outputs": [],
      "source": [
        "import pandas as pd"
      ]
    },
    {
      "cell_type": "code",
      "source": [
        "# original housing data\n",
        "housing_data = [\n",
        "    {'price' : 850000, 'rooms' : 4, 'neighborhood' : 'Queen Anne'},\n",
        "    {'price' : 700000, 'rooms' : 3, 'neighborhood' : 'Fremont'},\n",
        "    {'price' : 650000, 'rooms' : 3, 'neighborhood' : 'Wallingford'},\n",
        "    {'price' : 600000, 'rooms' : 2, 'neighborhood' : 'Fremont'}\n",
        "]"
      ],
      "metadata": {
        "id": "B92opIxxAETB"
      },
      "execution_count": 26,
      "outputs": []
    },
    {
      "cell_type": "code",
      "source": [
        "# create data frame from original data\n",
        "housing_df = pd.DataFrame(housing_data)\n",
        "print(housing_df)"
      ],
      "metadata": {
        "colab": {
          "base_uri": "https://localhost:8080/"
        },
        "id": "tApmt_vTAq0_",
        "outputId": "b7812492-4373-42fa-bf06-a5fd492e5144"
      },
      "execution_count": 27,
      "outputs": [
        {
          "output_type": "stream",
          "name": "stdout",
          "text": [
            "    price  rooms neighborhood\n",
            "0  850000      4   Queen Anne\n",
            "1  700000      3      Fremont\n",
            "2  650000      3  Wallingford\n",
            "3  600000      2      Fremont\n"
          ]
        }
      ]
    },
    {
      "cell_type": "markdown",
      "source": [
        "### One-hot encoding"
      ],
      "metadata": {
        "id": "83-aCT4SBOlo"
      }
    },
    {
      "cell_type": "markdown",
      "source": [
        "Use to encode catergorical data without implying any algebraic relationship between class values."
      ],
      "metadata": {
        "id": "dYg4EPH3BTP2"
      }
    },
    {
      "cell_type": "code",
      "source": [
        "from sklearn.feature_extraction import DictVectorizer\n",
        "\n",
        "# create one-hot encodings for data as a list of dictionaries\n",
        "vec = DictVectorizer(sparse=False, dtype=int)\n",
        "vec.fit_transform(housing_data)"
      ],
      "metadata": {
        "colab": {
          "base_uri": "https://localhost:8080/"
        },
        "id": "Df9fU0B5BcGm",
        "outputId": "bab9be31-3651-4cca-d4ec-8cee4b313a92"
      },
      "execution_count": 28,
      "outputs": [
        {
          "output_type": "execute_result",
          "data": {
            "text/plain": [
              "array([[     0,      1,      0, 850000,      4],\n",
              "       [     1,      0,      0, 700000,      3],\n",
              "       [     0,      0,      1, 650000,      3],\n",
              "       [     1,      0,      0, 600000,      2]])"
            ]
          },
          "metadata": {},
          "execution_count": 28
        }
      ]
    },
    {
      "cell_type": "markdown",
      "source": [
        "For a large number of possible classes, one-hot encoding can greatly increase the size of the dataset.\n",
        "\n",
        "However, sparse representations of the data are possible."
      ],
      "metadata": {
        "id": "Zg0m15gWCpf2"
      }
    },
    {
      "cell_type": "code",
      "source": [
        "# the same data can be compressed as a sparse matrix for efficiency\n",
        "vec = DictVectorizer(sparse=True, dtype=int)\n",
        "vec.fit_transform(housing_data)"
      ],
      "metadata": {
        "colab": {
          "base_uri": "https://localhost:8080/"
        },
        "id": "S_E_kY72CPOw",
        "outputId": "ff897288-025f-462c-9389-483dc68ab319"
      },
      "execution_count": 29,
      "outputs": [
        {
          "output_type": "execute_result",
          "data": {
            "text/plain": [
              "<4x5 sparse matrix of type '<class 'numpy.int64'>'\n",
              "\twith 12 stored elements in Compressed Sparse Row format>"
            ]
          },
          "metadata": {},
          "execution_count": 29
        }
      ]
    },
    {
      "cell_type": "markdown",
      "source": [
        "Sparse inputs are still accepted by estimators for training and evaluating models."
      ],
      "metadata": {
        "id": "DMOPdP4wCirW"
      }
    },
    {
      "cell_type": "markdown",
      "source": [
        "### Text Features"
      ],
      "metadata": {
        "id": "9aD0q8usqDBB"
      }
    },
    {
      "cell_type": "markdown",
      "source": [
        "A test dataset can be vectorized based on the frequency of each individual wor within samples. The count for each word become features of the dataset."
      ],
      "metadata": {
        "id": "_eyqKDphqIOJ"
      }
    },
    {
      "cell_type": "code",
      "source": [
        "# original text data\n",
        "text_data = ['anacondas live in the rainforest',\n",
        "             'elephants live in the jungle']"
      ],
      "metadata": {
        "id": "sFeKn7ABqEaZ"
      },
      "execution_count": 30,
      "outputs": []
    },
    {
      "cell_type": "code",
      "source": [
        "from sklearn.feature_extraction.text import CountVectorizer\n",
        "\n",
        "# convert text into numeric values using the frequency of words in each sample\n",
        "vec = CountVectorizer()\n",
        "data = vec.fit_transform(text_data)\n",
        "# create dataframe\n",
        "pd.DataFrame(data.toarray(), columns=vec.get_feature_names_out())"
      ],
      "metadata": {
        "colab": {
          "base_uri": "https://localhost:8080/",
          "height": 112
        },
        "id": "BUhqxaCBru71",
        "outputId": "ca0d55ab-6def-4750-cfde-8b682c031b5b"
      },
      "execution_count": 31,
      "outputs": [
        {
          "output_type": "execute_result",
          "data": {
            "text/plain": [
              "   anacondas  elephants  in  jungle  live  rainforest  the\n",
              "0          1          0   1       0     1           1    1\n",
              "1          0          1   1       1     1           0    1"
            ],
            "text/html": [
              "\n",
              "  <div id=\"df-55a4700e-ed73-4291-aba0-f141df68620c\">\n",
              "    <div class=\"colab-df-container\">\n",
              "      <div>\n",
              "<style scoped>\n",
              "    .dataframe tbody tr th:only-of-type {\n",
              "        vertical-align: middle;\n",
              "    }\n",
              "\n",
              "    .dataframe tbody tr th {\n",
              "        vertical-align: top;\n",
              "    }\n",
              "\n",
              "    .dataframe thead th {\n",
              "        text-align: right;\n",
              "    }\n",
              "</style>\n",
              "<table border=\"1\" class=\"dataframe\">\n",
              "  <thead>\n",
              "    <tr style=\"text-align: right;\">\n",
              "      <th></th>\n",
              "      <th>anacondas</th>\n",
              "      <th>elephants</th>\n",
              "      <th>in</th>\n",
              "      <th>jungle</th>\n",
              "      <th>live</th>\n",
              "      <th>rainforest</th>\n",
              "      <th>the</th>\n",
              "    </tr>\n",
              "  </thead>\n",
              "  <tbody>\n",
              "    <tr>\n",
              "      <th>0</th>\n",
              "      <td>1</td>\n",
              "      <td>0</td>\n",
              "      <td>1</td>\n",
              "      <td>0</td>\n",
              "      <td>1</td>\n",
              "      <td>1</td>\n",
              "      <td>1</td>\n",
              "    </tr>\n",
              "    <tr>\n",
              "      <th>1</th>\n",
              "      <td>0</td>\n",
              "      <td>1</td>\n",
              "      <td>1</td>\n",
              "      <td>1</td>\n",
              "      <td>1</td>\n",
              "      <td>0</td>\n",
              "      <td>1</td>\n",
              "    </tr>\n",
              "  </tbody>\n",
              "</table>\n",
              "</div>\n",
              "      <button class=\"colab-df-convert\" onclick=\"convertToInteractive('df-55a4700e-ed73-4291-aba0-f141df68620c')\"\n",
              "              title=\"Convert this dataframe to an interactive table.\"\n",
              "              style=\"display:none;\">\n",
              "        \n",
              "  <svg xmlns=\"http://www.w3.org/2000/svg\" height=\"24px\"viewBox=\"0 0 24 24\"\n",
              "       width=\"24px\">\n",
              "    <path d=\"M0 0h24v24H0V0z\" fill=\"none\"/>\n",
              "    <path d=\"M18.56 5.44l.94 2.06.94-2.06 2.06-.94-2.06-.94-.94-2.06-.94 2.06-2.06.94zm-11 1L8.5 8.5l.94-2.06 2.06-.94-2.06-.94L8.5 2.5l-.94 2.06-2.06.94zm10 10l.94 2.06.94-2.06 2.06-.94-2.06-.94-.94-2.06-.94 2.06-2.06.94z\"/><path d=\"M17.41 7.96l-1.37-1.37c-.4-.4-.92-.59-1.43-.59-.52 0-1.04.2-1.43.59L10.3 9.45l-7.72 7.72c-.78.78-.78 2.05 0 2.83L4 21.41c.39.39.9.59 1.41.59.51 0 1.02-.2 1.41-.59l7.78-7.78 2.81-2.81c.8-.78.8-2.07 0-2.86zM5.41 20L4 18.59l7.72-7.72 1.47 1.35L5.41 20z\"/>\n",
              "  </svg>\n",
              "      </button>\n",
              "      \n",
              "  <style>\n",
              "    .colab-df-container {\n",
              "      display:flex;\n",
              "      flex-wrap:wrap;\n",
              "      gap: 12px;\n",
              "    }\n",
              "\n",
              "    .colab-df-convert {\n",
              "      background-color: #E8F0FE;\n",
              "      border: none;\n",
              "      border-radius: 50%;\n",
              "      cursor: pointer;\n",
              "      display: none;\n",
              "      fill: #1967D2;\n",
              "      height: 32px;\n",
              "      padding: 0 0 0 0;\n",
              "      width: 32px;\n",
              "    }\n",
              "\n",
              "    .colab-df-convert:hover {\n",
              "      background-color: #E2EBFA;\n",
              "      box-shadow: 0px 1px 2px rgba(60, 64, 67, 0.3), 0px 1px 3px 1px rgba(60, 64, 67, 0.15);\n",
              "      fill: #174EA6;\n",
              "    }\n",
              "\n",
              "    [theme=dark] .colab-df-convert {\n",
              "      background-color: #3B4455;\n",
              "      fill: #D2E3FC;\n",
              "    }\n",
              "\n",
              "    [theme=dark] .colab-df-convert:hover {\n",
              "      background-color: #434B5C;\n",
              "      box-shadow: 0px 1px 3px 1px rgba(0, 0, 0, 0.15);\n",
              "      filter: drop-shadow(0px 1px 2px rgba(0, 0, 0, 0.3));\n",
              "      fill: #FFFFFF;\n",
              "    }\n",
              "  </style>\n",
              "\n",
              "      <script>\n",
              "        const buttonEl =\n",
              "          document.querySelector('#df-55a4700e-ed73-4291-aba0-f141df68620c button.colab-df-convert');\n",
              "        buttonEl.style.display =\n",
              "          google.colab.kernel.accessAllowed ? 'block' : 'none';\n",
              "\n",
              "        async function convertToInteractive(key) {\n",
              "          const element = document.querySelector('#df-55a4700e-ed73-4291-aba0-f141df68620c');\n",
              "          const dataTable =\n",
              "            await google.colab.kernel.invokeFunction('convertToInteractive',\n",
              "                                                     [key], {});\n",
              "          if (!dataTable) return;\n",
              "\n",
              "          const docLinkHtml = 'Like what you see? Visit the ' +\n",
              "            '<a target=\"_blank\" href=https://colab.research.google.com/notebooks/data_table.ipynb>data table notebook</a>'\n",
              "            + ' to learn more about interactive tables.';\n",
              "          element.innerHTML = '';\n",
              "          dataTable['output_type'] = 'display_data';\n",
              "          await google.colab.output.renderOutput(dataTable, element);\n",
              "          const docLink = document.createElement('div');\n",
              "          docLink.innerHTML = docLinkHtml;\n",
              "          element.appendChild(docLink);\n",
              "        }\n",
              "      </script>\n",
              "    </div>\n",
              "  </div>\n",
              "  "
            ]
          },
          "metadata": {},
          "execution_count": 31
        }
      ]
    },
    {
      "cell_type": "markdown",
      "source": [
        "One disadvantage of raw word count for classification probelms is that words that appear often have disproportionate influence on learning.\n",
        "\n",
        "Some of these words may be shared by many unrelated documents and offer no meaning. E.g. \"and\", \"is\", \"but\".\n",
        "\n",
        "TF-IDF looks to fix this by including the frequency of the words across all documnets and be invariant to misspelled words. "
      ],
      "metadata": {
        "id": "smbZLR34tE7e"
      }
    },
    {
      "cell_type": "code",
      "source": [
        "from sklearn.feature_extraction.text import TfidfVectorizer\n",
        "\n",
        "'''\n",
        "use term frequency inverse document frequency to weight each word count by\n",
        "by how often it appears in the sample\n",
        "'''\n",
        "vec = TfidfVectorizer()\n",
        "data = vec.fit_transform(text_data)\n",
        "# create dataframe\n",
        "pd.DataFrame(data.toarray(), columns=vec.get_feature_names_out())"
      ],
      "metadata": {
        "colab": {
          "base_uri": "https://localhost:8080/",
          "height": 112
        },
        "id": "uXzZMP9IsZo9",
        "outputId": "1d48bf99-8f21-478e-eb6a-cfa7a9fde343"
      },
      "execution_count": 32,
      "outputs": [
        {
          "output_type": "execute_result",
          "data": {
            "text/plain": [
              "   anacondas  elephants        in    jungle      live  rainforest       the\n",
              "0   0.533098   0.000000  0.379303  0.000000  0.379303    0.533098  0.379303\n",
              "1   0.000000   0.533098  0.379303  0.533098  0.379303    0.000000  0.379303"
            ],
            "text/html": [
              "\n",
              "  <div id=\"df-70289006-2e01-4220-9d11-a13444833c15\">\n",
              "    <div class=\"colab-df-container\">\n",
              "      <div>\n",
              "<style scoped>\n",
              "    .dataframe tbody tr th:only-of-type {\n",
              "        vertical-align: middle;\n",
              "    }\n",
              "\n",
              "    .dataframe tbody tr th {\n",
              "        vertical-align: top;\n",
              "    }\n",
              "\n",
              "    .dataframe thead th {\n",
              "        text-align: right;\n",
              "    }\n",
              "</style>\n",
              "<table border=\"1\" class=\"dataframe\">\n",
              "  <thead>\n",
              "    <tr style=\"text-align: right;\">\n",
              "      <th></th>\n",
              "      <th>anacondas</th>\n",
              "      <th>elephants</th>\n",
              "      <th>in</th>\n",
              "      <th>jungle</th>\n",
              "      <th>live</th>\n",
              "      <th>rainforest</th>\n",
              "      <th>the</th>\n",
              "    </tr>\n",
              "  </thead>\n",
              "  <tbody>\n",
              "    <tr>\n",
              "      <th>0</th>\n",
              "      <td>0.533098</td>\n",
              "      <td>0.000000</td>\n",
              "      <td>0.379303</td>\n",
              "      <td>0.000000</td>\n",
              "      <td>0.379303</td>\n",
              "      <td>0.533098</td>\n",
              "      <td>0.379303</td>\n",
              "    </tr>\n",
              "    <tr>\n",
              "      <th>1</th>\n",
              "      <td>0.000000</td>\n",
              "      <td>0.533098</td>\n",
              "      <td>0.379303</td>\n",
              "      <td>0.533098</td>\n",
              "      <td>0.379303</td>\n",
              "      <td>0.000000</td>\n",
              "      <td>0.379303</td>\n",
              "    </tr>\n",
              "  </tbody>\n",
              "</table>\n",
              "</div>\n",
              "      <button class=\"colab-df-convert\" onclick=\"convertToInteractive('df-70289006-2e01-4220-9d11-a13444833c15')\"\n",
              "              title=\"Convert this dataframe to an interactive table.\"\n",
              "              style=\"display:none;\">\n",
              "        \n",
              "  <svg xmlns=\"http://www.w3.org/2000/svg\" height=\"24px\"viewBox=\"0 0 24 24\"\n",
              "       width=\"24px\">\n",
              "    <path d=\"M0 0h24v24H0V0z\" fill=\"none\"/>\n",
              "    <path d=\"M18.56 5.44l.94 2.06.94-2.06 2.06-.94-2.06-.94-.94-2.06-.94 2.06-2.06.94zm-11 1L8.5 8.5l.94-2.06 2.06-.94-2.06-.94L8.5 2.5l-.94 2.06-2.06.94zm10 10l.94 2.06.94-2.06 2.06-.94-2.06-.94-.94-2.06-.94 2.06-2.06.94z\"/><path d=\"M17.41 7.96l-1.37-1.37c-.4-.4-.92-.59-1.43-.59-.52 0-1.04.2-1.43.59L10.3 9.45l-7.72 7.72c-.78.78-.78 2.05 0 2.83L4 21.41c.39.39.9.59 1.41.59.51 0 1.02-.2 1.41-.59l7.78-7.78 2.81-2.81c.8-.78.8-2.07 0-2.86zM5.41 20L4 18.59l7.72-7.72 1.47 1.35L5.41 20z\"/>\n",
              "  </svg>\n",
              "      </button>\n",
              "      \n",
              "  <style>\n",
              "    .colab-df-container {\n",
              "      display:flex;\n",
              "      flex-wrap:wrap;\n",
              "      gap: 12px;\n",
              "    }\n",
              "\n",
              "    .colab-df-convert {\n",
              "      background-color: #E8F0FE;\n",
              "      border: none;\n",
              "      border-radius: 50%;\n",
              "      cursor: pointer;\n",
              "      display: none;\n",
              "      fill: #1967D2;\n",
              "      height: 32px;\n",
              "      padding: 0 0 0 0;\n",
              "      width: 32px;\n",
              "    }\n",
              "\n",
              "    .colab-df-convert:hover {\n",
              "      background-color: #E2EBFA;\n",
              "      box-shadow: 0px 1px 2px rgba(60, 64, 67, 0.3), 0px 1px 3px 1px rgba(60, 64, 67, 0.15);\n",
              "      fill: #174EA6;\n",
              "    }\n",
              "\n",
              "    [theme=dark] .colab-df-convert {\n",
              "      background-color: #3B4455;\n",
              "      fill: #D2E3FC;\n",
              "    }\n",
              "\n",
              "    [theme=dark] .colab-df-convert:hover {\n",
              "      background-color: #434B5C;\n",
              "      box-shadow: 0px 1px 3px 1px rgba(0, 0, 0, 0.15);\n",
              "      filter: drop-shadow(0px 1px 2px rgba(0, 0, 0, 0.3));\n",
              "      fill: #FFFFFF;\n",
              "    }\n",
              "  </style>\n",
              "\n",
              "      <script>\n",
              "        const buttonEl =\n",
              "          document.querySelector('#df-70289006-2e01-4220-9d11-a13444833c15 button.colab-df-convert');\n",
              "        buttonEl.style.display =\n",
              "          google.colab.kernel.accessAllowed ? 'block' : 'none';\n",
              "\n",
              "        async function convertToInteractive(key) {\n",
              "          const element = document.querySelector('#df-70289006-2e01-4220-9d11-a13444833c15');\n",
              "          const dataTable =\n",
              "            await google.colab.kernel.invokeFunction('convertToInteractive',\n",
              "                                                     [key], {});\n",
              "          if (!dataTable) return;\n",
              "\n",
              "          const docLinkHtml = 'Like what you see? Visit the ' +\n",
              "            '<a target=\"_blank\" href=https://colab.research.google.com/notebooks/data_table.ipynb>data table notebook</a>'\n",
              "            + ' to learn more about interactive tables.';\n",
              "          element.innerHTML = '';\n",
              "          dataTable['output_type'] = 'display_data';\n",
              "          await google.colab.output.renderOutput(dataTable, element);\n",
              "          const docLink = document.createElement('div');\n",
              "          docLink.innerHTML = docLinkHtml;\n",
              "          element.appendChild(docLink);\n",
              "        }\n",
              "      </script>\n",
              "    </div>\n",
              "  </div>\n",
              "  "
            ]
          },
          "metadata": {},
          "execution_count": 32
        }
      ]
    },
    {
      "cell_type": "markdown",
      "source": [
        "### Term Frequency - Inverse Document Frequency"
      ],
      "metadata": {
        "id": "Ray4vju31dWB"
      }
    },
    {
      "cell_type": "markdown",
      "source": [
        "#### Step 1 - TF\n",
        "\n",
        "Calculate the frequency of words within each indiviual document (sample). (Bag of words)\n",
        "\n",
        "$\\text{TF} = \\frac{\\text{Frequency of each word in document}}{\\text{Total words in document}}$"
      ],
      "metadata": {
        "id": "xKJQ2yn91kkJ"
      }
    },
    {
      "cell_type": "markdown",
      "source": [
        "#### Step 2 - IDF\n",
        "\n",
        "Calculate the number of occurences of each word across all possible documents (samples)\n",
        "\n",
        "$\\text{IDF} = log(\\frac{\\text{Total Documents}}{\\text{Number of Documents containing word}})$"
      ],
      "metadata": {
        "id": "0xjIvBFA11Uh"
      }
    },
    {
      "cell_type": "markdown",
      "source": [
        "#### Step 3 - TF-IDF\n",
        "\n",
        "Calculate TF-IDF for each word using steps 1 and 2.\n",
        "\n",
        "$\\text{TF-IDF} = TF \\times IDF$"
      ],
      "metadata": {
        "id": "83w0Y5Sa2bMo"
      }
    },
    {
      "cell_type": "markdown",
      "source": [
        "### Derived Features"
      ],
      "metadata": {
        "id": "AvcP1208O8u-"
      }
    },
    {
      "cell_type": "code",
      "source": [
        "%matplotlib inline\n",
        "import numpy as np\n",
        "import matplotlib.pyplot as plt\n",
        "\n",
        "# small dataset\n",
        "x = np.array([1, 2, 3, 4, 5])\n",
        "y = np.array([4, 2, 1, 3, 7])\n",
        "plt.scatter(x, y)"
      ],
      "metadata": {
        "colab": {
          "base_uri": "https://localhost:8080/",
          "height": 447
        },
        "id": "AMdMajN_1wXd",
        "outputId": "efa633e9-2da8-4744-e8f2-20040e75da77"
      },
      "execution_count": 33,
      "outputs": [
        {
          "output_type": "execute_result",
          "data": {
            "text/plain": [
              "<matplotlib.collections.PathCollection at 0x7f5d61eaac10>"
            ]
          },
          "metadata": {},
          "execution_count": 33
        },
        {
          "output_type": "display_data",
          "data": {
            "text/plain": [
              "<Figure size 640x480 with 1 Axes>"
            ],
            "image/png": "[encoded data removed]"
          },
          "metadata": {}
        }
      ]
    },
    {
      "cell_type": "code",
      "source": [
        "from sklearn.linear_model import LinearRegression\n",
        "\n",
        "# add second dimension to input data\n",
        "X = x[:, np.newaxis] # (5, 1)\n",
        "# create linear regression model and fit to data\n",
        "model = LinearRegression().fit(X, y)\n",
        "# predict with the linear model \n",
        "y_preds = model.predict(X)\n",
        "# plot original data\n",
        "plt.scatter(x, y)\n",
        "# plot predicted best fit line\n",
        "plt.plot(x, y_preds)"
      ],
      "metadata": {
        "colab": {
          "base_uri": "https://localhost:8080/",
          "height": 447
        },
        "id": "J4kpKakFPrjW",
        "outputId": "5d331c5f-ae61-456f-ef94-336665695921"
      },
      "execution_count": 35,
      "outputs": [
        {
          "output_type": "execute_result",
          "data": {
            "text/plain": [
              "[<matplotlib.lines.Line2D at 0x7f5d5ea23520>]"
            ]
          },
          "metadata": {},
          "execution_count": 35
        },
        {
          "output_type": "display_data",
          "data": {
            "text/plain": [
              "<Figure size 640x480 with 1 Axes>"
            ],
            "image/png": "[encoded data removed]"
          },
          "metadata": {}
        }
      ]
    },
    {
      "cell_type": "markdown",
      "source": [
        "We can transform input data for the model using basis functions.\n",
        "\n",
        "E.g. a polynomial model is still a linear combination of the unknown parameters and non-linearly transformed features of $x$.\n",
        "\n",
        "$y = {\\beta}_{0} + {\\beta}_{1}x + {\\beta}_{2}{x}^{2} + {\\beta}_{3}{x}^3$\n",
        "\n",
        "Solve for ${\\beta}_{i} \\in \\text{{0, 1, 2, 3}}$"
      ],
      "metadata": {
        "id": "m9RN4jK8Y5mJ"
      }
    },
    {
      "cell_type": "code",
      "source": [
        "from sklearn.preprocessing import PolynomialFeatures\n",
        "\n",
        "# transform the data to include additional columns of polynomial feature values\n",
        "p = PolynomialFeatures(degree=3, include_bias=False)\n",
        "X_p = p.fit_transform(X)\n",
        "# each column contains the power of x up to x^3\n",
        "print(X_p)"
      ],
      "metadata": {
        "colab": {
          "base_uri": "https://localhost:8080/"
        },
        "id": "xHsmoNuQQywi",
        "outputId": "4eebdb9c-7309-4d67-e74a-84809b9f58ab"
      },
      "execution_count": 40,
      "outputs": [
        {
          "output_type": "stream",
          "name": "stdout",
          "text": [
            "[[  1.   1.   1.]\n",
            " [  2.   4.   8.]\n",
            " [  3.   9.  27.]\n",
            " [  4.  16.  64.]\n",
            " [  5.  25. 125.]]\n"
          ]
        }
      ]
    },
    {
      "cell_type": "code",
      "source": [
        "# create linear regression model and fit on additional polynomial features\n",
        "model_p = LinearRegression().fit(X_p, y)\n",
        "y_preds_p = model_p.predict(X_p)\n",
        "\n",
        "# plot original data\n",
        "plt.scatter(x, y)\n",
        "# plot predicted best fit line from original dataset\n",
        "plt.plot(x, y_preds)\n",
        "# plot predicted best fit line using polynomial features\n",
        "plt.plot(x, y_preds_p)"
      ],
      "metadata": {
        "colab": {
          "base_uri": "https://localhost:8080/",
          "height": 447
        },
        "id": "9rC-GIehRYqF",
        "outputId": "62e559e3-f5b8-45fa-9d02-30370c0bc089"
      },
      "execution_count": 41,
      "outputs": [
        {
          "output_type": "execute_result",
          "data": {
            "text/plain": [
              "[<matplotlib.lines.Line2D at 0x7f5d5e487c10>]"
            ]
          },
          "metadata": {},
          "execution_count": 41
        },
        {
          "output_type": "display_data",
          "data": {
            "text/plain": [
              "<Figure size 640x480 with 1 Axes>"
            ],
            "image/png": "[encoded data removed]"
          },
          "metadata": {}
        }
      ]
    },
    {
      "cell_type": "markdown",
      "source": [
        "### Imputation of missing data"
      ],
      "metadata": {
        "id": "1zfuADXMSSOe"
      }
    },
    {
      "cell_type": "code",
      "source": [
        "from numpy import nan\n",
        "\n",
        "# simple dataset with missing values\n",
        "X = np.array([[nan, 0,   3],\n",
        "              [3,   7,   9],\n",
        "              [nan, 5,   2],\n",
        "              [4,   nan, 6],\n",
        "              [8,   8,   1]])\n",
        "# targets\n",
        "y = np.array([14, 16, -1, 8, -5])"
      ],
      "metadata": {
        "id": "4H_AoufhSUPu"
      },
      "execution_count": 44,
      "outputs": []
    },
    {
      "cell_type": "markdown",
      "source": [
        "We can impute missing values to improve learning following simple strategies using the mean, mode or median of values from each feature."
      ],
      "metadata": {
        "id": "NmDDUPy8Xxij"
      }
    },
    {
      "cell_type": "code",
      "source": [
        "from sklearn.impute import SimpleImputer\n",
        "\n",
        "# replace missing values with the mean value for each feature\n",
        "i = SimpleImputer(strategy='mean')\n",
        "x_i = i.fit_transform(X)\n",
        "print(x_i)"
      ],
      "metadata": {
        "colab": {
          "base_uri": "https://localhost:8080/"
        },
        "id": "bSdQMa1LX87T",
        "outputId": "522b7d3d-336c-4bba-bda6-2a6b5488924e"
      },
      "execution_count": 45,
      "outputs": [
        {
          "output_type": "stream",
          "name": "stdout",
          "text": [
            "[[5. 0. 3.]\n",
            " [3. 7. 9.]\n",
            " [5. 5. 2.]\n",
            " [4. 5. 6.]\n",
            " [8. 8. 1.]]\n"
          ]
        }
      ]
    },
    {
      "cell_type": "code",
      "source": [
        "# linear regression on filled data\n",
        "model = LinearRegression().fit(x_i, y)\n",
        "model.predict(x_i)"
      ],
      "metadata": {
        "colab": {
          "base_uri": "https://localhost:8080/"
        },
        "id": "BuJ3RyYsYoZS",
        "outputId": "c9323501-6d1c-4237-9641-4bdab927392a"
      },
      "execution_count": 46,
      "outputs": [
        {
          "output_type": "execute_result",
          "data": {
            "text/plain": [
              "array([13.39262336, 14.5908862 , -1.51019637, 10.599572  , -5.0728852 ])"
            ]
          },
          "metadata": {},
          "execution_count": 46
        }
      ]
    },
    {
      "cell_type": "markdown",
      "source": [
        "### Feature Pipelines"
      ],
      "metadata": {
        "id": "QDg2jauaY15a"
      }
    },
    {
      "cell_type": "markdown",
      "source": [
        "A processing pipeline can be created to automate the proprocessing and training of models on data."
      ],
      "metadata": {
        "id": "p6RwJew0ZBSw"
      }
    },
    {
      "cell_type": "code",
      "source": [
        "from sklearn.pipeline import make_pipeline\n",
        "\n",
        "# apply linear regression using polynomial features on missing data\n",
        "pipeline = make_pipeline(SimpleImputer(strategy='mean'), # replace nan with mean\n",
        "                         PolynomialFeatures(degree=2), # add x^2 polynomial features\n",
        "                         LinearRegression())"
      ],
      "metadata": {
        "id": "aTb9W6lPY--h"
      },
      "execution_count": 49,
      "outputs": []
    },
    {
      "cell_type": "code",
      "source": [
        "# preprocess data and train model following pipeline steps\n",
        "pipeline.fit(X, y)\n",
        "# predict targets using pipeline\n",
        "y_preds = pipeline.predict(X)\n",
        "# compare real and predicted targets\n",
        "print(y)\n",
        "print(y_preds)"
      ],
      "metadata": {
        "colab": {
          "base_uri": "https://localhost:8080/"
        },
        "id": "Bol9ldXvZmJj",
        "outputId": "87c8632e-2922-479e-f30d-f1f97636fcad"
      },
      "execution_count": 53,
      "outputs": [
        {
          "output_type": "stream",
          "name": "stdout",
          "text": [
            "[14 16 -1  8 -5]\n",
            "[14. 16. -1.  8. -5.]\n"
          ]
        }
      ]
    }
  ]
}